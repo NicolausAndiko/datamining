{
 "cells": [
  {
   "cell_type": "markdown",
   "id": "a0722c0b",
   "metadata": {},
   "source": [
    "# Tugas 2"
   ]
  },
  {
   "cell_type": "markdown",
   "id": "6e201223",
   "metadata": {},
   "source": [
    "## Distraksi"
   ]
  },
  {
   "cell_type": "markdown",
   "id": "6f39dd37",
   "metadata": {},
   "source": [
    "Distraksi merupakan transformasi kolom menjadi type data lain. Tujuannya untuk membuat data menjadi lebih optimal yang nantinya memudahkan untuk di analisis"
   ]
  },
  {
   "cell_type": "code",
   "execution_count": 1,
   "id": "5c18c109",
   "metadata": {},
   "outputs": [],
   "source": [
    "import pandas as pd\n",
    "import numpy as np\n",
    "pd.options.mode.chained_assignment = None "
   ]
  },
  {
   "cell_type": "code",
   "execution_count": 2,
   "id": "0f06933b",
   "metadata": {},
   "outputs": [
    {
     "data": {
      "text/html": [
       "<div>\n",
       "<style scoped>\n",
       "    .dataframe tbody tr th:only-of-type {\n",
       "        vertical-align: middle;\n",
       "    }\n",
       "\n",
       "    .dataframe tbody tr th {\n",
       "        vertical-align: top;\n",
       "    }\n",
       "\n",
       "    .dataframe thead th {\n",
       "        text-align: right;\n",
       "    }\n",
       "</style>\n",
       "<table border=\"1\" class=\"dataframe\">\n",
       "  <thead>\n",
       "    <tr style=\"text-align: right;\">\n",
       "      <th></th>\n",
       "      <th>sepal.length</th>\n",
       "      <th>sepal.width</th>\n",
       "      <th>petal.length</th>\n",
       "      <th>petal.width</th>\n",
       "      <th>variety</th>\n",
       "    </tr>\n",
       "  </thead>\n",
       "  <tbody>\n",
       "    <tr>\n",
       "      <th>0</th>\n",
       "      <td>5.1</td>\n",
       "      <td>3.5</td>\n",
       "      <td>1.4</td>\n",
       "      <td>0.2</td>\n",
       "      <td>Setosa</td>\n",
       "    </tr>\n",
       "    <tr>\n",
       "      <th>1</th>\n",
       "      <td>4.9</td>\n",
       "      <td>3.0</td>\n",
       "      <td>1.4</td>\n",
       "      <td>0.2</td>\n",
       "      <td>Setosa</td>\n",
       "    </tr>\n",
       "    <tr>\n",
       "      <th>2</th>\n",
       "      <td>4.7</td>\n",
       "      <td>3.2</td>\n",
       "      <td>1.3</td>\n",
       "      <td>0.2</td>\n",
       "      <td>Setosa</td>\n",
       "    </tr>\n",
       "    <tr>\n",
       "      <th>3</th>\n",
       "      <td>4.6</td>\n",
       "      <td>3.1</td>\n",
       "      <td>1.5</td>\n",
       "      <td>0.2</td>\n",
       "      <td>Setosa</td>\n",
       "    </tr>\n",
       "    <tr>\n",
       "      <th>4</th>\n",
       "      <td>5.0</td>\n",
       "      <td>3.6</td>\n",
       "      <td>1.4</td>\n",
       "      <td>0.2</td>\n",
       "      <td>Setosa</td>\n",
       "    </tr>\n",
       "    <tr>\n",
       "      <th>...</th>\n",
       "      <td>...</td>\n",
       "      <td>...</td>\n",
       "      <td>...</td>\n",
       "      <td>...</td>\n",
       "      <td>...</td>\n",
       "    </tr>\n",
       "    <tr>\n",
       "      <th>145</th>\n",
       "      <td>6.7</td>\n",
       "      <td>3.0</td>\n",
       "      <td>5.2</td>\n",
       "      <td>2.3</td>\n",
       "      <td>Virginica</td>\n",
       "    </tr>\n",
       "    <tr>\n",
       "      <th>146</th>\n",
       "      <td>6.3</td>\n",
       "      <td>2.5</td>\n",
       "      <td>5.0</td>\n",
       "      <td>1.9</td>\n",
       "      <td>Virginica</td>\n",
       "    </tr>\n",
       "    <tr>\n",
       "      <th>147</th>\n",
       "      <td>6.5</td>\n",
       "      <td>3.0</td>\n",
       "      <td>5.2</td>\n",
       "      <td>2.0</td>\n",
       "      <td>Virginica</td>\n",
       "    </tr>\n",
       "    <tr>\n",
       "      <th>148</th>\n",
       "      <td>6.2</td>\n",
       "      <td>3.4</td>\n",
       "      <td>5.4</td>\n",
       "      <td>2.3</td>\n",
       "      <td>Virginica</td>\n",
       "    </tr>\n",
       "    <tr>\n",
       "      <th>149</th>\n",
       "      <td>5.9</td>\n",
       "      <td>3.0</td>\n",
       "      <td>5.1</td>\n",
       "      <td>1.8</td>\n",
       "      <td>Virginica</td>\n",
       "    </tr>\n",
       "  </tbody>\n",
       "</table>\n",
       "<p>150 rows × 5 columns</p>\n",
       "</div>"
      ],
      "text/plain": [
       "     sepal.length  sepal.width  petal.length  petal.width    variety\n",
       "0             5.1          3.5           1.4          0.2     Setosa\n",
       "1             4.9          3.0           1.4          0.2     Setosa\n",
       "2             4.7          3.2           1.3          0.2     Setosa\n",
       "3             4.6          3.1           1.5          0.2     Setosa\n",
       "4             5.0          3.6           1.4          0.2     Setosa\n",
       "..            ...          ...           ...          ...        ...\n",
       "145           6.7          3.0           5.2          2.3  Virginica\n",
       "146           6.3          2.5           5.0          1.9  Virginica\n",
       "147           6.5          3.0           5.2          2.0  Virginica\n",
       "148           6.2          3.4           5.4          2.3  Virginica\n",
       "149           5.9          3.0           5.1          1.8  Virginica\n",
       "\n",
       "[150 rows x 5 columns]"
      ]
     },
     "execution_count": 2,
     "metadata": {},
     "output_type": "execute_result"
    }
   ],
   "source": [
    "df = pd.read_csv(\"https://gist.githubusercontent.com/netj/8836201/raw/6f9306ad21398ea43cba4f7d537619d0e07d5ae3/iris.csv\")\n",
    "df"
   ]
  },
  {
   "cell_type": "markdown",
   "id": "58a62561",
   "metadata": {},
   "source": [
    "## Equal-Width Intervals"
   ]
  },
  {
   "cell_type": "markdown",
   "id": "d3271e86",
   "metadata": {},
   "source": [
    "Equal-width intervals adalah distraksi yang membagi data numerik menjadi beberapa kelompok dengan lebar kelompok yang kurang lebih sama besar."
   ]
  },
  {
   "cell_type": "markdown",
   "id": "214fb284",
   "metadata": {},
   "source": [
    "Mengambil sample data"
   ]
  },
  {
   "cell_type": "code",
   "execution_count": 3,
   "id": "68623f2e",
   "metadata": {},
   "outputs": [],
   "source": [
    "data_sepal_length = df[[\"sepal.length\"]]\n",
    "data_sepal_width = df[[\"sepal.width\"]]\n",
    "data_petal_length = df[[\"petal.length\"]]\n",
    "data_petal_width = df[[\"petal.width\"]]"
   ]
  },
  {
   "cell_type": "markdown",
   "id": "4a06cee0",
   "metadata": {},
   "source": [
    "Pandas Menyediakan method cut yang digunakan untuk mencari interval menggunakan metode Equal-width Intervals"
   ]
  },
  {
   "cell_type": "code",
   "execution_count": 5,
   "id": "87b08243",
   "metadata": {},
   "outputs": [],
   "source": [
    "def cut(col, k):\n",
    "    intervals = pd.cut(df[col], k).value_counts().index.to_list()\n",
    "    print(intervals)\n",
    "    return [[interval.left, interval.right] for interval in intervals]"
   ]
  },
  {
   "cell_type": "code",
   "execution_count": 6,
   "id": "db6bda9f",
   "metadata": {},
   "outputs": [],
   "source": [
    "def toCategory(list_interval, col):\n",
    "    # get length interval\n",
    "    length = len(list_interval)\n",
    "\n",
    "    # Sorting interval\n",
    "    sort_interval = np.sort(list_interval, axis=0)\n",
    "    # Get Category from intervala\n",
    "    categories = np.array([chr(65+i) for i in range(length)])[:, None]\n",
    "    # combine into interval data\n",
    "    intervals = np.hstack((sort_interval, categories))\n",
    "\n",
    "    # Operate All data\n",
    "    newCol = []\n",
    "    for i, row in df.iterrows():\n",
    "        data = row[col]\n",
    "        for interval in intervals:\n",
    "            if data >= interval[0].astype(float) and data <= interval[1].astype(float):\n",
    "                newCol.append(interval[2])\n",
    "                break\n",
    "    # return new coloumn category\n",
    "    return np.array(newCol, dtype=str)\n"
   ]
  },
  {
   "cell_type": "markdown",
   "id": "8d3b46d0",
   "metadata": {},
   "source": [
    "Mencari interval sebagai contoh disini dibagi menjadi 3 bagian"
   ]
  },
  {
   "cell_type": "code",
   "execution_count": 7,
   "id": "69003c7f",
   "metadata": {},
   "outputs": [
    {
     "name": "stdout",
     "output_type": "stream",
     "text": [
      "[Interval(5.5, 6.7, closed='right'), Interval(4.296, 5.5, closed='right'), Interval(6.7, 7.9, closed='right')]\n",
      "[Interval(2.8, 3.6, closed='right'), Interval(1.998, 2.8, closed='right'), Interval(3.6, 4.4, closed='right')]\n",
      "[Interval(2.967, 4.933, closed='right'), Interval(0.994, 2.967, closed='right'), Interval(4.933, 6.9, closed='right')]\n",
      "[Interval(0.9, 1.7, closed='right'), Interval(0.0976, 0.9, closed='right'), Interval(1.7, 2.5, closed='right')]\n",
      "interval sepal.length : [[5.5, 6.7], [4.296, 5.5], [6.7, 7.9]]\n",
      "interval sepal.width  : [[2.8, 3.6], [1.998, 2.8], [3.6, 4.4]]\n",
      "interval petal.length : [[2.967, 4.933], [0.994, 2.967], [4.933, 6.9]]\n",
      "interval petal.width  : [[0.9, 1.7], [0.0976, 0.9], [1.7, 2.5]]\n"
     ]
    }
   ],
   "source": [
    "interval_sepal_length = cut(\"sepal.length\", 3)\n",
    "interval_sepal_width = cut(\"sepal.width\", 3)\n",
    "interval_petal_length = cut(\"petal.length\", 3)\n",
    "interval_petal_width = cut(\"petal.width\", 3)\n",
    "\n",
    "print(\"interval sepal.length :\", interval_sepal_length)\n",
    "print(\"interval sepal.width  :\", interval_sepal_width)\n",
    "print(\"interval petal.length :\", interval_petal_length)\n",
    "print(\"interval petal.width  :\", interval_petal_width)"
   ]
  },
  {
   "cell_type": "markdown",
   "id": "e581806e",
   "metadata": {},
   "source": [
    "Tampilkan hasil dari pembagian category"
   ]
  },
  {
   "cell_type": "code",
   "execution_count": 8,
   "id": "e5457c2f",
   "metadata": {},
   "outputs": [
    {
     "data": {
      "text/html": [
       "<div>\n",
       "<style scoped>\n",
       "    .dataframe tbody tr th:only-of-type {\n",
       "        vertical-align: middle;\n",
       "    }\n",
       "\n",
       "    .dataframe tbody tr th {\n",
       "        vertical-align: top;\n",
       "    }\n",
       "\n",
       "    .dataframe thead th {\n",
       "        text-align: right;\n",
       "    }\n",
       "</style>\n",
       "<table border=\"1\" class=\"dataframe\">\n",
       "  <thead>\n",
       "    <tr style=\"text-align: right;\">\n",
       "      <th></th>\n",
       "      <th>sepal.length</th>\n",
       "      <th>cateogry</th>\n",
       "    </tr>\n",
       "  </thead>\n",
       "  <tbody>\n",
       "    <tr>\n",
       "      <th>0</th>\n",
       "      <td>5.1</td>\n",
       "      <td>A</td>\n",
       "    </tr>\n",
       "    <tr>\n",
       "      <th>1</th>\n",
       "      <td>4.9</td>\n",
       "      <td>A</td>\n",
       "    </tr>\n",
       "    <tr>\n",
       "      <th>2</th>\n",
       "      <td>4.7</td>\n",
       "      <td>A</td>\n",
       "    </tr>\n",
       "    <tr>\n",
       "      <th>3</th>\n",
       "      <td>4.6</td>\n",
       "      <td>A</td>\n",
       "    </tr>\n",
       "    <tr>\n",
       "      <th>4</th>\n",
       "      <td>5.0</td>\n",
       "      <td>A</td>\n",
       "    </tr>\n",
       "    <tr>\n",
       "      <th>...</th>\n",
       "      <td>...</td>\n",
       "      <td>...</td>\n",
       "    </tr>\n",
       "    <tr>\n",
       "      <th>145</th>\n",
       "      <td>6.7</td>\n",
       "      <td>B</td>\n",
       "    </tr>\n",
       "    <tr>\n",
       "      <th>146</th>\n",
       "      <td>6.3</td>\n",
       "      <td>B</td>\n",
       "    </tr>\n",
       "    <tr>\n",
       "      <th>147</th>\n",
       "      <td>6.5</td>\n",
       "      <td>B</td>\n",
       "    </tr>\n",
       "    <tr>\n",
       "      <th>148</th>\n",
       "      <td>6.2</td>\n",
       "      <td>B</td>\n",
       "    </tr>\n",
       "    <tr>\n",
       "      <th>149</th>\n",
       "      <td>5.9</td>\n",
       "      <td>B</td>\n",
       "    </tr>\n",
       "  </tbody>\n",
       "</table>\n",
       "<p>150 rows × 2 columns</p>\n",
       "</div>"
      ],
      "text/plain": [
       "     sepal.length cateogry\n",
       "0             5.1        A\n",
       "1             4.9        A\n",
       "2             4.7        A\n",
       "3             4.6        A\n",
       "4             5.0        A\n",
       "..            ...      ...\n",
       "145           6.7        B\n",
       "146           6.3        B\n",
       "147           6.5        B\n",
       "148           6.2        B\n",
       "149           5.9        B\n",
       "\n",
       "[150 rows x 2 columns]"
      ]
     },
     "metadata": {},
     "output_type": "display_data"
    },
    {
     "data": {
      "text/html": [
       "<div>\n",
       "<style scoped>\n",
       "    .dataframe tbody tr th:only-of-type {\n",
       "        vertical-align: middle;\n",
       "    }\n",
       "\n",
       "    .dataframe tbody tr th {\n",
       "        vertical-align: top;\n",
       "    }\n",
       "\n",
       "    .dataframe thead th {\n",
       "        text-align: right;\n",
       "    }\n",
       "</style>\n",
       "<table border=\"1\" class=\"dataframe\">\n",
       "  <thead>\n",
       "    <tr style=\"text-align: right;\">\n",
       "      <th></th>\n",
       "      <th>sepal.width</th>\n",
       "      <th>cateogry</th>\n",
       "    </tr>\n",
       "  </thead>\n",
       "  <tbody>\n",
       "    <tr>\n",
       "      <th>0</th>\n",
       "      <td>3.5</td>\n",
       "      <td>B</td>\n",
       "    </tr>\n",
       "    <tr>\n",
       "      <th>1</th>\n",
       "      <td>3.0</td>\n",
       "      <td>B</td>\n",
       "    </tr>\n",
       "    <tr>\n",
       "      <th>2</th>\n",
       "      <td>3.2</td>\n",
       "      <td>B</td>\n",
       "    </tr>\n",
       "    <tr>\n",
       "      <th>3</th>\n",
       "      <td>3.1</td>\n",
       "      <td>B</td>\n",
       "    </tr>\n",
       "    <tr>\n",
       "      <th>4</th>\n",
       "      <td>3.6</td>\n",
       "      <td>B</td>\n",
       "    </tr>\n",
       "    <tr>\n",
       "      <th>...</th>\n",
       "      <td>...</td>\n",
       "      <td>...</td>\n",
       "    </tr>\n",
       "    <tr>\n",
       "      <th>145</th>\n",
       "      <td>3.0</td>\n",
       "      <td>B</td>\n",
       "    </tr>\n",
       "    <tr>\n",
       "      <th>146</th>\n",
       "      <td>2.5</td>\n",
       "      <td>A</td>\n",
       "    </tr>\n",
       "    <tr>\n",
       "      <th>147</th>\n",
       "      <td>3.0</td>\n",
       "      <td>B</td>\n",
       "    </tr>\n",
       "    <tr>\n",
       "      <th>148</th>\n",
       "      <td>3.4</td>\n",
       "      <td>B</td>\n",
       "    </tr>\n",
       "    <tr>\n",
       "      <th>149</th>\n",
       "      <td>3.0</td>\n",
       "      <td>B</td>\n",
       "    </tr>\n",
       "  </tbody>\n",
       "</table>\n",
       "<p>150 rows × 2 columns</p>\n",
       "</div>"
      ],
      "text/plain": [
       "     sepal.width cateogry\n",
       "0            3.5        B\n",
       "1            3.0        B\n",
       "2            3.2        B\n",
       "3            3.1        B\n",
       "4            3.6        B\n",
       "..           ...      ...\n",
       "145          3.0        B\n",
       "146          2.5        A\n",
       "147          3.0        B\n",
       "148          3.4        B\n",
       "149          3.0        B\n",
       "\n",
       "[150 rows x 2 columns]"
      ]
     },
     "metadata": {},
     "output_type": "display_data"
    },
    {
     "data": {
      "text/html": [
       "<div>\n",
       "<style scoped>\n",
       "    .dataframe tbody tr th:only-of-type {\n",
       "        vertical-align: middle;\n",
       "    }\n",
       "\n",
       "    .dataframe tbody tr th {\n",
       "        vertical-align: top;\n",
       "    }\n",
       "\n",
       "    .dataframe thead th {\n",
       "        text-align: right;\n",
       "    }\n",
       "</style>\n",
       "<table border=\"1\" class=\"dataframe\">\n",
       "  <thead>\n",
       "    <tr style=\"text-align: right;\">\n",
       "      <th></th>\n",
       "      <th>petal.length</th>\n",
       "      <th>cateogry</th>\n",
       "    </tr>\n",
       "  </thead>\n",
       "  <tbody>\n",
       "    <tr>\n",
       "      <th>0</th>\n",
       "      <td>1.4</td>\n",
       "      <td>A</td>\n",
       "    </tr>\n",
       "    <tr>\n",
       "      <th>1</th>\n",
       "      <td>1.4</td>\n",
       "      <td>A</td>\n",
       "    </tr>\n",
       "    <tr>\n",
       "      <th>2</th>\n",
       "      <td>1.3</td>\n",
       "      <td>A</td>\n",
       "    </tr>\n",
       "    <tr>\n",
       "      <th>3</th>\n",
       "      <td>1.5</td>\n",
       "      <td>A</td>\n",
       "    </tr>\n",
       "    <tr>\n",
       "      <th>4</th>\n",
       "      <td>1.4</td>\n",
       "      <td>A</td>\n",
       "    </tr>\n",
       "    <tr>\n",
       "      <th>...</th>\n",
       "      <td>...</td>\n",
       "      <td>...</td>\n",
       "    </tr>\n",
       "    <tr>\n",
       "      <th>145</th>\n",
       "      <td>5.2</td>\n",
       "      <td>C</td>\n",
       "    </tr>\n",
       "    <tr>\n",
       "      <th>146</th>\n",
       "      <td>5.0</td>\n",
       "      <td>C</td>\n",
       "    </tr>\n",
       "    <tr>\n",
       "      <th>147</th>\n",
       "      <td>5.2</td>\n",
       "      <td>C</td>\n",
       "    </tr>\n",
       "    <tr>\n",
       "      <th>148</th>\n",
       "      <td>5.4</td>\n",
       "      <td>C</td>\n",
       "    </tr>\n",
       "    <tr>\n",
       "      <th>149</th>\n",
       "      <td>5.1</td>\n",
       "      <td>C</td>\n",
       "    </tr>\n",
       "  </tbody>\n",
       "</table>\n",
       "<p>150 rows × 2 columns</p>\n",
       "</div>"
      ],
      "text/plain": [
       "     petal.length cateogry\n",
       "0             1.4        A\n",
       "1             1.4        A\n",
       "2             1.3        A\n",
       "3             1.5        A\n",
       "4             1.4        A\n",
       "..            ...      ...\n",
       "145           5.2        C\n",
       "146           5.0        C\n",
       "147           5.2        C\n",
       "148           5.4        C\n",
       "149           5.1        C\n",
       "\n",
       "[150 rows x 2 columns]"
      ]
     },
     "metadata": {},
     "output_type": "display_data"
    },
    {
     "data": {
      "text/html": [
       "<div>\n",
       "<style scoped>\n",
       "    .dataframe tbody tr th:only-of-type {\n",
       "        vertical-align: middle;\n",
       "    }\n",
       "\n",
       "    .dataframe tbody tr th {\n",
       "        vertical-align: top;\n",
       "    }\n",
       "\n",
       "    .dataframe thead th {\n",
       "        text-align: right;\n",
       "    }\n",
       "</style>\n",
       "<table border=\"1\" class=\"dataframe\">\n",
       "  <thead>\n",
       "    <tr style=\"text-align: right;\">\n",
       "      <th></th>\n",
       "      <th>petal.width</th>\n",
       "      <th>cateogry</th>\n",
       "    </tr>\n",
       "  </thead>\n",
       "  <tbody>\n",
       "    <tr>\n",
       "      <th>0</th>\n",
       "      <td>0.2</td>\n",
       "      <td>A</td>\n",
       "    </tr>\n",
       "    <tr>\n",
       "      <th>1</th>\n",
       "      <td>0.2</td>\n",
       "      <td>A</td>\n",
       "    </tr>\n",
       "    <tr>\n",
       "      <th>2</th>\n",
       "      <td>0.2</td>\n",
       "      <td>A</td>\n",
       "    </tr>\n",
       "    <tr>\n",
       "      <th>3</th>\n",
       "      <td>0.2</td>\n",
       "      <td>A</td>\n",
       "    </tr>\n",
       "    <tr>\n",
       "      <th>4</th>\n",
       "      <td>0.2</td>\n",
       "      <td>A</td>\n",
       "    </tr>\n",
       "    <tr>\n",
       "      <th>...</th>\n",
       "      <td>...</td>\n",
       "      <td>...</td>\n",
       "    </tr>\n",
       "    <tr>\n",
       "      <th>145</th>\n",
       "      <td>2.3</td>\n",
       "      <td>C</td>\n",
       "    </tr>\n",
       "    <tr>\n",
       "      <th>146</th>\n",
       "      <td>1.9</td>\n",
       "      <td>C</td>\n",
       "    </tr>\n",
       "    <tr>\n",
       "      <th>147</th>\n",
       "      <td>2.0</td>\n",
       "      <td>C</td>\n",
       "    </tr>\n",
       "    <tr>\n",
       "      <th>148</th>\n",
       "      <td>2.3</td>\n",
       "      <td>C</td>\n",
       "    </tr>\n",
       "    <tr>\n",
       "      <th>149</th>\n",
       "      <td>1.8</td>\n",
       "      <td>C</td>\n",
       "    </tr>\n",
       "  </tbody>\n",
       "</table>\n",
       "<p>150 rows × 2 columns</p>\n",
       "</div>"
      ],
      "text/plain": [
       "     petal.width cateogry\n",
       "0            0.2        A\n",
       "1            0.2        A\n",
       "2            0.2        A\n",
       "3            0.2        A\n",
       "4            0.2        A\n",
       "..           ...      ...\n",
       "145          2.3        C\n",
       "146          1.9        C\n",
       "147          2.0        C\n",
       "148          2.3        C\n",
       "149          1.8        C\n",
       "\n",
       "[150 rows x 2 columns]"
      ]
     },
     "metadata": {},
     "output_type": "display_data"
    }
   ],
   "source": [
    "data_sepal_length[\"cateogry\"] = toCategory(interval_sepal_length, \"sepal.length\")\n",
    "data_sepal_width[\"cateogry\"] = toCategory(interval_sepal_width, \"sepal.width\")\n",
    "data_petal_length[\"cateogry\"] = toCategory(interval_petal_length, \"petal.length\")\n",
    "data_petal_width[\"cateogry\"] = toCategory(interval_petal_width, \"petal.width\")\n",
    "\n",
    "display(data_sepal_length)\n",
    "display(data_sepal_width)\n",
    "display(data_petal_length)\n",
    "display(data_petal_width)"
   ]
  },
  {
   "cell_type": "markdown",
   "id": "c995ef8f",
   "metadata": {},
   "source": [
    "## Equal-frequency Intervals"
   ]
  },
  {
   "cell_type": "markdown",
   "id": "909b1286",
   "metadata": {},
   "source": [
    "Equal-frequency intervals adalah distraksi yang membagi data numerik menjadi beberapa kelompok dengan jumlah anggota yang kurang lebih sama besar."
   ]
  },
  {
   "cell_type": "code",
   "execution_count": 9,
   "id": "5d0e5224",
   "metadata": {},
   "outputs": [],
   "source": [
    "data_sepal_length = df[[\"sepal.length\"]]\n",
    "data_sepal_width = df[[\"sepal.width\"]]\n",
    "data_petal_length = df[[\"petal.length\"]]\n",
    "data_petal_width = df[[\"petal.width\"]]"
   ]
  },
  {
   "cell_type": "markdown",
   "id": "af8fccb1",
   "metadata": {},
   "source": [
    "Pandas menyediakan method qcut untuk mencri nilai interval dari Equal-frequency Intervals"
   ]
  },
  {
   "cell_type": "code",
   "execution_count": 10,
   "id": "ec0a2068",
   "metadata": {},
   "outputs": [],
   "source": [
    "def qcut(col, k):\n",
    "    intervals = pd.qcut(df[col], k).value_counts().index.to_list()\n",
    "    return [[interval.left, interval.right] for interval in intervals]"
   ]
  },
  {
   "cell_type": "markdown",
   "id": "b9d56dde",
   "metadata": {},
   "source": [
    "Mencari interval sebagai contoh disini dibagi menjadi 3 bagian"
   ]
  },
  {
   "cell_type": "code",
   "execution_count": 11,
   "id": "e123f0c8",
   "metadata": {},
   "outputs": [
    {
     "name": "stdout",
     "output_type": "stream",
     "text": [
      "interval sepal.length : [[5.4, 6.3], [4.2989999999999995, 5.4], [6.3, 7.9]]\n",
      "interval sepal.width  : [[1.999, 2.9], [2.9, 3.2], [3.2, 4.4]]\n",
      "interval petal.length : [[2.633, 4.9], [0.999, 2.633], [4.9, 6.9]]\n",
      "interval petal.width  : [[0.867, 1.6], [0.099, 0.867], [1.6, 2.5]]\n"
     ]
    }
   ],
   "source": [
    "interval_sepal_length = qcut(\"sepal.length\", 3)\n",
    "interval_sepal_width = qcut(\"sepal.width\", 3)\n",
    "interval_petal_length = qcut(\"petal.length\", 3)\n",
    "interval_petal_width = qcut(\"petal.width\", 3)\n",
    "\n",
    "print(\"interval sepal.length :\", interval_sepal_length)\n",
    "print(\"interval sepal.width  :\", interval_sepal_width)\n",
    "print(\"interval petal.length :\", interval_petal_length)\n",
    "print(\"interval petal.width  :\", interval_petal_width)"
   ]
  },
  {
   "cell_type": "markdown",
   "id": "9fe6d86d",
   "metadata": {},
   "source": [
    "Tampilkan hasil dari pembagian category"
   ]
  },
  {
   "cell_type": "code",
   "execution_count": 12,
   "id": "39024b41",
   "metadata": {},
   "outputs": [
    {
     "data": {
      "text/html": [
       "<div>\n",
       "<style scoped>\n",
       "    .dataframe tbody tr th:only-of-type {\n",
       "        vertical-align: middle;\n",
       "    }\n",
       "\n",
       "    .dataframe tbody tr th {\n",
       "        vertical-align: top;\n",
       "    }\n",
       "\n",
       "    .dataframe thead th {\n",
       "        text-align: right;\n",
       "    }\n",
       "</style>\n",
       "<table border=\"1\" class=\"dataframe\">\n",
       "  <thead>\n",
       "    <tr style=\"text-align: right;\">\n",
       "      <th></th>\n",
       "      <th>sepal.length</th>\n",
       "      <th>category</th>\n",
       "    </tr>\n",
       "  </thead>\n",
       "  <tbody>\n",
       "    <tr>\n",
       "      <th>0</th>\n",
       "      <td>5.1</td>\n",
       "      <td>A</td>\n",
       "    </tr>\n",
       "    <tr>\n",
       "      <th>1</th>\n",
       "      <td>4.9</td>\n",
       "      <td>A</td>\n",
       "    </tr>\n",
       "    <tr>\n",
       "      <th>2</th>\n",
       "      <td>4.7</td>\n",
       "      <td>A</td>\n",
       "    </tr>\n",
       "    <tr>\n",
       "      <th>3</th>\n",
       "      <td>4.6</td>\n",
       "      <td>A</td>\n",
       "    </tr>\n",
       "    <tr>\n",
       "      <th>4</th>\n",
       "      <td>5.0</td>\n",
       "      <td>A</td>\n",
       "    </tr>\n",
       "    <tr>\n",
       "      <th>...</th>\n",
       "      <td>...</td>\n",
       "      <td>...</td>\n",
       "    </tr>\n",
       "    <tr>\n",
       "      <th>145</th>\n",
       "      <td>6.7</td>\n",
       "      <td>C</td>\n",
       "    </tr>\n",
       "    <tr>\n",
       "      <th>146</th>\n",
       "      <td>6.3</td>\n",
       "      <td>B</td>\n",
       "    </tr>\n",
       "    <tr>\n",
       "      <th>147</th>\n",
       "      <td>6.5</td>\n",
       "      <td>C</td>\n",
       "    </tr>\n",
       "    <tr>\n",
       "      <th>148</th>\n",
       "      <td>6.2</td>\n",
       "      <td>B</td>\n",
       "    </tr>\n",
       "    <tr>\n",
       "      <th>149</th>\n",
       "      <td>5.9</td>\n",
       "      <td>B</td>\n",
       "    </tr>\n",
       "  </tbody>\n",
       "</table>\n",
       "<p>150 rows × 2 columns</p>\n",
       "</div>"
      ],
      "text/plain": [
       "     sepal.length category\n",
       "0             5.1        A\n",
       "1             4.9        A\n",
       "2             4.7        A\n",
       "3             4.6        A\n",
       "4             5.0        A\n",
       "..            ...      ...\n",
       "145           6.7        C\n",
       "146           6.3        B\n",
       "147           6.5        C\n",
       "148           6.2        B\n",
       "149           5.9        B\n",
       "\n",
       "[150 rows x 2 columns]"
      ]
     },
     "metadata": {},
     "output_type": "display_data"
    },
    {
     "data": {
      "text/html": [
       "<div>\n",
       "<style scoped>\n",
       "    .dataframe tbody tr th:only-of-type {\n",
       "        vertical-align: middle;\n",
       "    }\n",
       "\n",
       "    .dataframe tbody tr th {\n",
       "        vertical-align: top;\n",
       "    }\n",
       "\n",
       "    .dataframe thead th {\n",
       "        text-align: right;\n",
       "    }\n",
       "</style>\n",
       "<table border=\"1\" class=\"dataframe\">\n",
       "  <thead>\n",
       "    <tr style=\"text-align: right;\">\n",
       "      <th></th>\n",
       "      <th>sepal.width</th>\n",
       "      <th>category</th>\n",
       "    </tr>\n",
       "  </thead>\n",
       "  <tbody>\n",
       "    <tr>\n",
       "      <th>0</th>\n",
       "      <td>3.5</td>\n",
       "      <td>C</td>\n",
       "    </tr>\n",
       "    <tr>\n",
       "      <th>1</th>\n",
       "      <td>3.0</td>\n",
       "      <td>B</td>\n",
       "    </tr>\n",
       "    <tr>\n",
       "      <th>2</th>\n",
       "      <td>3.2</td>\n",
       "      <td>B</td>\n",
       "    </tr>\n",
       "    <tr>\n",
       "      <th>3</th>\n",
       "      <td>3.1</td>\n",
       "      <td>B</td>\n",
       "    </tr>\n",
       "    <tr>\n",
       "      <th>4</th>\n",
       "      <td>3.6</td>\n",
       "      <td>C</td>\n",
       "    </tr>\n",
       "    <tr>\n",
       "      <th>...</th>\n",
       "      <td>...</td>\n",
       "      <td>...</td>\n",
       "    </tr>\n",
       "    <tr>\n",
       "      <th>145</th>\n",
       "      <td>3.0</td>\n",
       "      <td>B</td>\n",
       "    </tr>\n",
       "    <tr>\n",
       "      <th>146</th>\n",
       "      <td>2.5</td>\n",
       "      <td>A</td>\n",
       "    </tr>\n",
       "    <tr>\n",
       "      <th>147</th>\n",
       "      <td>3.0</td>\n",
       "      <td>B</td>\n",
       "    </tr>\n",
       "    <tr>\n",
       "      <th>148</th>\n",
       "      <td>3.4</td>\n",
       "      <td>C</td>\n",
       "    </tr>\n",
       "    <tr>\n",
       "      <th>149</th>\n",
       "      <td>3.0</td>\n",
       "      <td>B</td>\n",
       "    </tr>\n",
       "  </tbody>\n",
       "</table>\n",
       "<p>150 rows × 2 columns</p>\n",
       "</div>"
      ],
      "text/plain": [
       "     sepal.width category\n",
       "0            3.5        C\n",
       "1            3.0        B\n",
       "2            3.2        B\n",
       "3            3.1        B\n",
       "4            3.6        C\n",
       "..           ...      ...\n",
       "145          3.0        B\n",
       "146          2.5        A\n",
       "147          3.0        B\n",
       "148          3.4        C\n",
       "149          3.0        B\n",
       "\n",
       "[150 rows x 2 columns]"
      ]
     },
     "metadata": {},
     "output_type": "display_data"
    },
    {
     "data": {
      "text/html": [
       "<div>\n",
       "<style scoped>\n",
       "    .dataframe tbody tr th:only-of-type {\n",
       "        vertical-align: middle;\n",
       "    }\n",
       "\n",
       "    .dataframe tbody tr th {\n",
       "        vertical-align: top;\n",
       "    }\n",
       "\n",
       "    .dataframe thead th {\n",
       "        text-align: right;\n",
       "    }\n",
       "</style>\n",
       "<table border=\"1\" class=\"dataframe\">\n",
       "  <thead>\n",
       "    <tr style=\"text-align: right;\">\n",
       "      <th></th>\n",
       "      <th>petal.length</th>\n",
       "      <th>category</th>\n",
       "    </tr>\n",
       "  </thead>\n",
       "  <tbody>\n",
       "    <tr>\n",
       "      <th>0</th>\n",
       "      <td>1.4</td>\n",
       "      <td>A</td>\n",
       "    </tr>\n",
       "    <tr>\n",
       "      <th>1</th>\n",
       "      <td>1.4</td>\n",
       "      <td>A</td>\n",
       "    </tr>\n",
       "    <tr>\n",
       "      <th>2</th>\n",
       "      <td>1.3</td>\n",
       "      <td>A</td>\n",
       "    </tr>\n",
       "    <tr>\n",
       "      <th>3</th>\n",
       "      <td>1.5</td>\n",
       "      <td>A</td>\n",
       "    </tr>\n",
       "    <tr>\n",
       "      <th>4</th>\n",
       "      <td>1.4</td>\n",
       "      <td>A</td>\n",
       "    </tr>\n",
       "    <tr>\n",
       "      <th>...</th>\n",
       "      <td>...</td>\n",
       "      <td>...</td>\n",
       "    </tr>\n",
       "    <tr>\n",
       "      <th>145</th>\n",
       "      <td>5.2</td>\n",
       "      <td>C</td>\n",
       "    </tr>\n",
       "    <tr>\n",
       "      <th>146</th>\n",
       "      <td>5.0</td>\n",
       "      <td>C</td>\n",
       "    </tr>\n",
       "    <tr>\n",
       "      <th>147</th>\n",
       "      <td>5.2</td>\n",
       "      <td>C</td>\n",
       "    </tr>\n",
       "    <tr>\n",
       "      <th>148</th>\n",
       "      <td>5.4</td>\n",
       "      <td>C</td>\n",
       "    </tr>\n",
       "    <tr>\n",
       "      <th>149</th>\n",
       "      <td>5.1</td>\n",
       "      <td>C</td>\n",
       "    </tr>\n",
       "  </tbody>\n",
       "</table>\n",
       "<p>150 rows × 2 columns</p>\n",
       "</div>"
      ],
      "text/plain": [
       "     petal.length category\n",
       "0             1.4        A\n",
       "1             1.4        A\n",
       "2             1.3        A\n",
       "3             1.5        A\n",
       "4             1.4        A\n",
       "..            ...      ...\n",
       "145           5.2        C\n",
       "146           5.0        C\n",
       "147           5.2        C\n",
       "148           5.4        C\n",
       "149           5.1        C\n",
       "\n",
       "[150 rows x 2 columns]"
      ]
     },
     "metadata": {},
     "output_type": "display_data"
    },
    {
     "data": {
      "text/html": [
       "<div>\n",
       "<style scoped>\n",
       "    .dataframe tbody tr th:only-of-type {\n",
       "        vertical-align: middle;\n",
       "    }\n",
       "\n",
       "    .dataframe tbody tr th {\n",
       "        vertical-align: top;\n",
       "    }\n",
       "\n",
       "    .dataframe thead th {\n",
       "        text-align: right;\n",
       "    }\n",
       "</style>\n",
       "<table border=\"1\" class=\"dataframe\">\n",
       "  <thead>\n",
       "    <tr style=\"text-align: right;\">\n",
       "      <th></th>\n",
       "      <th>petal.width</th>\n",
       "      <th>category</th>\n",
       "    </tr>\n",
       "  </thead>\n",
       "  <tbody>\n",
       "    <tr>\n",
       "      <th>0</th>\n",
       "      <td>0.2</td>\n",
       "      <td>A</td>\n",
       "    </tr>\n",
       "    <tr>\n",
       "      <th>1</th>\n",
       "      <td>0.2</td>\n",
       "      <td>A</td>\n",
       "    </tr>\n",
       "    <tr>\n",
       "      <th>2</th>\n",
       "      <td>0.2</td>\n",
       "      <td>A</td>\n",
       "    </tr>\n",
       "    <tr>\n",
       "      <th>3</th>\n",
       "      <td>0.2</td>\n",
       "      <td>A</td>\n",
       "    </tr>\n",
       "    <tr>\n",
       "      <th>4</th>\n",
       "      <td>0.2</td>\n",
       "      <td>A</td>\n",
       "    </tr>\n",
       "    <tr>\n",
       "      <th>...</th>\n",
       "      <td>...</td>\n",
       "      <td>...</td>\n",
       "    </tr>\n",
       "    <tr>\n",
       "      <th>145</th>\n",
       "      <td>2.3</td>\n",
       "      <td>C</td>\n",
       "    </tr>\n",
       "    <tr>\n",
       "      <th>146</th>\n",
       "      <td>1.9</td>\n",
       "      <td>C</td>\n",
       "    </tr>\n",
       "    <tr>\n",
       "      <th>147</th>\n",
       "      <td>2.0</td>\n",
       "      <td>C</td>\n",
       "    </tr>\n",
       "    <tr>\n",
       "      <th>148</th>\n",
       "      <td>2.3</td>\n",
       "      <td>C</td>\n",
       "    </tr>\n",
       "    <tr>\n",
       "      <th>149</th>\n",
       "      <td>1.8</td>\n",
       "      <td>C</td>\n",
       "    </tr>\n",
       "  </tbody>\n",
       "</table>\n",
       "<p>150 rows × 2 columns</p>\n",
       "</div>"
      ],
      "text/plain": [
       "     petal.width category\n",
       "0            0.2        A\n",
       "1            0.2        A\n",
       "2            0.2        A\n",
       "3            0.2        A\n",
       "4            0.2        A\n",
       "..           ...      ...\n",
       "145          2.3        C\n",
       "146          1.9        C\n",
       "147          2.0        C\n",
       "148          2.3        C\n",
       "149          1.8        C\n",
       "\n",
       "[150 rows x 2 columns]"
      ]
     },
     "metadata": {},
     "output_type": "display_data"
    }
   ],
   "source": [
    "data_sepal_length[\"category\"] = toCategory(interval_sepal_length, \"sepal.length\")\n",
    "data_sepal_width[\"category\"] = toCategory(interval_sepal_width, \"sepal.width\")\n",
    "data_petal_length[\"category\"] = toCategory(interval_petal_length, \"petal.length\")\n",
    "data_petal_width[\"category\"] = toCategory(interval_petal_width, \"petal.width\")\n",
    "\n",
    "display(data_sepal_length)\n",
    "display(data_sepal_width)\n",
    "display(data_petal_length)\n",
    "display(data_petal_width)"
   ]
  },
  {
   "cell_type": "markdown",
   "id": "3859dbae",
   "metadata": {},
   "source": [
    "## Entropy"
   ]
  },
  {
   "cell_type": "markdown",
   "id": "58f40031",
   "metadata": {},
   "source": [
    "Entropy merupakan informasi yang menggambarkan seberapa konsisten pemisah akan cocok dengan pengklasifikasi"
   ]
  },
  {
   "cell_type": "markdown",
   "id": "31e6c070",
   "metadata": {},
   "source": [
    "Membuat sample data untuk di analisis"
   ]
  },
  {
   "cell_type": "code",
   "execution_count": 14,
   "id": "5256a8dc",
   "metadata": {},
   "outputs": [
    {
     "data": {
      "text/html": [
       "<div>\n",
       "<style scoped>\n",
       "    .dataframe tbody tr th:only-of-type {\n",
       "        vertical-align: middle;\n",
       "    }\n",
       "\n",
       "    .dataframe tbody tr th {\n",
       "        vertical-align: top;\n",
       "    }\n",
       "\n",
       "    .dataframe thead th {\n",
       "        text-align: right;\n",
       "    }\n",
       "</style>\n",
       "<table border=\"1\" class=\"dataframe\">\n",
       "  <thead>\n",
       "    <tr style=\"text-align: right;\">\n",
       "      <th></th>\n",
       "      <th>sepal.length</th>\n",
       "    </tr>\n",
       "  </thead>\n",
       "  <tbody>\n",
       "    <tr>\n",
       "      <th>count</th>\n",
       "      <td>150.000000</td>\n",
       "    </tr>\n",
       "    <tr>\n",
       "      <th>mean</th>\n",
       "      <td>5.843333</td>\n",
       "    </tr>\n",
       "    <tr>\n",
       "      <th>std</th>\n",
       "      <td>0.828066</td>\n",
       "    </tr>\n",
       "    <tr>\n",
       "      <th>min</th>\n",
       "      <td>4.300000</td>\n",
       "    </tr>\n",
       "    <tr>\n",
       "      <th>25%</th>\n",
       "      <td>5.100000</td>\n",
       "    </tr>\n",
       "    <tr>\n",
       "      <th>50%</th>\n",
       "      <td>5.800000</td>\n",
       "    </tr>\n",
       "    <tr>\n",
       "      <th>75%</th>\n",
       "      <td>6.400000</td>\n",
       "    </tr>\n",
       "    <tr>\n",
       "      <th>max</th>\n",
       "      <td>7.900000</td>\n",
       "    </tr>\n",
       "  </tbody>\n",
       "</table>\n",
       "</div>"
      ],
      "text/plain": [
       "       sepal.length\n",
       "count    150.000000\n",
       "mean       5.843333\n",
       "std        0.828066\n",
       "min        4.300000\n",
       "25%        5.100000\n",
       "50%        5.800000\n",
       "75%        6.400000\n",
       "max        7.900000"
      ]
     },
     "execution_count": 14,
     "metadata": {},
     "output_type": "execute_result"
    }
   ],
   "source": [
    "sample = df[[\"sepal.length\"]]\n",
    "sample.describe()"
   ]
  },
  {
   "cell_type": "markdown",
   "id": "1432a189",
   "metadata": {},
   "source": [
    "Membuat category random untuk semua data"
   ]
  },
  {
   "cell_type": "code",
   "execution_count": 15,
   "id": "267447a7",
   "metadata": {},
   "outputs": [
    {
     "data": {
      "text/plain": [
       "150"
      ]
     },
     "execution_count": 15,
     "metadata": {},
     "output_type": "execute_result"
    }
   ],
   "source": [
    "np.random.seed(0)\n",
    "sample[\"category\"] = np.where(np.random.choice(2, sample.shape[0]) < 1, \"A\", \"B\" )\n",
    "sample\n",
    "sample.shape[0]"
   ]
  },
  {
   "cell_type": "markdown",
   "id": "62685709",
   "metadata": {},
   "source": [
    "Membut fungsi getOverollCategory digunakan untuk menghitung data keseluruhan yang nantinya digunakan untuk menghitung entropy"
   ]
  },
  {
   "cell_type": "code",
   "execution_count": 16,
   "id": "b59ecf79",
   "metadata": {},
   "outputs": [],
   "source": [
    "def getOverollCategory(col):\n",
    "    group = sample.loc[:, :].groupby(\"category\").count()\n",
    "    a = group.loc[\"A\", col]\n",
    "    b = group.loc[\"B\", col]\n",
    "    print(a,b, group)\n",
    "    return (a, b, a+b)"
   ]
  },
  {
   "cell_type": "markdown",
   "id": "7a3d1095",
   "metadata": {},
   "source": [
    "Fungsi splitter digunakan untuk membuat split antara value yang telah di tentukan lalu mengembalikan data yang telah di pisahkan"
   ]
  },
  {
   "cell_type": "code",
   "execution_count": 17,
   "id": "88b70f80",
   "metadata": {},
   "outputs": [],
   "source": [
    "def splitter(value:float, col:str)->tuple:\n",
    "    # get data less and greater from value\n",
    "    less = sample[sample[col] <= value]\n",
    "    greater = sample[sample[col] > value]\n",
    "\n",
    "    # calculate into category for each data\n",
    "    less_group = less.loc[:, :].groupby(\"category\").count()\n",
    "    print(less_group)\n",
    "    greater_group = greater.loc[:, :].groupby(\"category\").count()\n",
    "\n",
    "    # get value based on category\n",
    "    less_category_A = less_group.loc[\"A\", col]\n",
    "    print(less_category_A)\n",
    "\n",
    "    less_category_B = less_group.loc[\"B\", col]\n",
    "    greater_category_A = greater_group.loc[\"A\", col]\n",
    "    greater_category_B = greater_group.loc[\"B\", col]\n",
    "\n",
    "    return (\n",
    "        [less_category_A, less_category_B, less_category_A + less_category_B],\n",
    "        [greater_category_A, greater_category_B, greater_category_A + greater_category_B]\n",
    "    )"
   ]
  },
  {
   "cell_type": "markdown",
   "id": "e34ad418",
   "metadata": {},
   "source": [
    "Buat Fungsi entropy untuk mencari nilai entropy"
   ]
  },
  {
   "cell_type": "code",
   "execution_count": 18,
   "id": "be18480b",
   "metadata": {},
   "outputs": [],
   "source": [
    "def entropy(d):\n",
    "    r1 = (d[0] / d[2]) * np.log2(d[0] / d[2])\n",
    "    r2 = (d[1] / d[2]) * np.log2(d[1] / d[2])\n",
    "    return np.sum([r1, r2]) * -1"
   ]
  },
  {
   "cell_type": "markdown",
   "id": "5718ff16",
   "metadata": {},
   "source": [
    "Membuat fungsi info dan gain"
   ]
  },
  {
   "cell_type": "code",
   "execution_count": 19,
   "id": "e20f26fc",
   "metadata": {},
   "outputs": [],
   "source": [
    "def info(d):\n",
    "    r1 = (d[0][2] / sample.shape[0])  * entropy(d[0])\n",
    "    r2 = (d[1][2] / sample.shape[0]) * entropy(d[1])\n",
    "    return r1 + r2"
   ]
  },
  {
   "cell_type": "markdown",
   "id": "89bb13d5",
   "metadata": {},
   "source": [
    "Fungsi gain untuk menghitung selsih antara entropy awal dengan yang baru"
   ]
  },
  {
   "cell_type": "code",
   "execution_count": 21,
   "id": "00f39c22",
   "metadata": {},
   "outputs": [],
   "source": [
    "def gain(Einitial, Enew):\n",
    "    return Einitial - Enew"
   ]
  },
  {
   "cell_type": "markdown",
   "id": "2a9bdce8",
   "metadata": {},
   "source": [
    "Membuat Dinitial"
   ]
  },
  {
   "cell_type": "code",
   "execution_count": 22,
   "id": "463783de",
   "metadata": {},
   "outputs": [
    {
     "name": "stdout",
     "output_type": "stream",
     "text": [
      "68 82           sepal.length\n",
      "category              \n",
      "A                   68\n",
      "B                   82\n"
     ]
    },
    {
     "data": {
      "text/plain": [
       "(68, 82, 150)"
      ]
     },
     "metadata": {},
     "output_type": "display_data"
    },
    {
     "data": {
      "text/plain": [
       "0.993707106604508"
      ]
     },
     "metadata": {},
     "output_type": "display_data"
    }
   ],
   "source": [
    "D = getOverollCategory(\"sepal.length\")\n",
    "entropy_d = entropy(D)\n",
    "display(D)\n",
    "display(entropy_d)"
   ]
  },
  {
   "cell_type": "markdown",
   "id": "6fede990",
   "metadata": {},
   "source": [
    "Melakukan beberapa tes split untuk mencri informasi yang terbaik"
   ]
  },
  {
   "cell_type": "markdown",
   "id": "398e32ce",
   "metadata": {},
   "source": [
    "Split 1: 4.4"
   ]
  },
  {
   "cell_type": "code",
   "execution_count": 23,
   "id": "da020a92",
   "metadata": {},
   "outputs": [
    {
     "name": "stdout",
     "output_type": "stream",
     "text": [
      "          sepal.length\n",
      "category              \n",
      "A                    1\n",
      "B                    3\n",
      "1\n"
     ]
    },
    {
     "data": {
      "text/plain": [
       "0.003488151753460178"
      ]
     },
     "execution_count": 23,
     "metadata": {},
     "output_type": "execute_result"
    }
   ],
   "source": [
    "split1 = splitter(4.4, \"sepal.length\")\n",
    "info_split1 = info(split1)\n",
    "gain(entropy_d, info_split1)"
   ]
  },
  {
   "cell_type": "markdown",
   "id": "6da8eac1",
   "metadata": {},
   "source": [
    "Split 2: 5.5"
   ]
  },
  {
   "cell_type": "code",
   "execution_count": 24,
   "id": "4fa2e1f9",
   "metadata": {},
   "outputs": [
    {
     "name": "stdout",
     "output_type": "stream",
     "text": [
      "          sepal.length\n",
      "category              \n",
      "A                   22\n",
      "B                   37\n",
      "22\n"
     ]
    },
    {
     "data": {
      "text/plain": [
       "0.012302155146638905"
      ]
     },
     "execution_count": 24,
     "metadata": {},
     "output_type": "execute_result"
    }
   ],
   "source": [
    "split2 = splitter(5.5, \"sepal.length\")\n",
    "info_split2 = info(split2)\n",
    "gain(entropy_d, info_split2)"
   ]
  },
  {
   "cell_type": "markdown",
   "id": "7e3937b6",
   "metadata": {},
   "source": [
    "Split 3: 7.0"
   ]
  },
  {
   "cell_type": "code",
   "execution_count": 25,
   "id": "0161cb49",
   "metadata": {},
   "outputs": [
    {
     "name": "stdout",
     "output_type": "stream",
     "text": [
      "          sepal.length\n",
      "category              \n",
      "A                   62\n",
      "B                   76\n",
      "62\n"
     ]
    },
    {
     "data": {
      "text/plain": [
       "0.0005490214732508658"
      ]
     },
     "execution_count": 25,
     "metadata": {},
     "output_type": "execute_result"
    }
   ],
   "source": [
    "split3 = splitter(7.0, \"sepal.length\")\n",
    "info_split3 = info(split3)\n",
    "gain(entropy_d, info_split3)"
   ]
  },
  {
   "cell_type": "markdown",
   "id": "7960ea81",
   "metadata": {},
   "source": [
    "Dari keseluruhan split yang telah di hitung. maka split terbaik adalah split 3 yang memberikan keuntungan informasi sebesar 0.0005490214732508658"
   ]
  }
 ],
 "metadata": {
  "kernelspec": {
   "display_name": "Python 3 (ipykernel)",
   "language": "python",
   "name": "python3"
  },
  "language_info": {
   "codemirror_mode": {
    "name": "ipython",
    "version": 3
   },
   "file_extension": ".py",
   "mimetype": "text/x-python",
   "name": "python",
   "nbconvert_exporter": "python",
   "pygments_lexer": "ipython3",
   "version": "3.8.5"
  }
 },
 "nbformat": 4,
 "nbformat_minor": 5
}
